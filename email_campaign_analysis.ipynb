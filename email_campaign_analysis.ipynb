{
 "cells": [
  {
   "cell_type": "code",
   "execution_count": 53,
   "id": "fb4b20b7-3218-456c-9e0f-ec182a5c02c7",
   "metadata": {},
   "outputs": [],
   "source": [
    "# Import necessary libraries\n",
    "import pandas as pd\n",
    "from sklearn.preprocessing import LabelEncoder\n",
    "from sklearn.model_selection import train_test_split\n",
    "from sklearn.ensemble import RandomForestClassifier\n",
    "from sklearn.metrics import classification_report"
   ]
  },
  {
   "cell_type": "code",
   "execution_count": 55,
   "id": "8b6ad56b-54de-4a30-8d8b-f47420e4463c",
   "metadata": {},
   "outputs": [],
   "source": [
    "# Load the tables\n",
    "email_df = pd.read_csv('email_table.csv')           # Main email data\n",
    "opened_df = pd.read_csv('email_opened_table.csv')   # Emails that were opened\n",
    "clicked_df = pd.read_csv('link_clicked_table.csv')  # Emails where link was clicked"
   ]
  },
  {
   "cell_type": "code",
   "execution_count": 57,
   "id": "bb65864c-2d98-48c4-95a3-35ba654a1a3d",
   "metadata": {},
   "outputs": [],
   "source": [
    "# Add 'opened' and 'clicked' columns based on email IDs present in the other tables\n",
    "email_df['opened'] = email_df['email_id'].isin(opened_df['email_id']).astype(int)\n",
    "email_df['clicked'] = email_df['email_id'].isin(clicked_df['email_id']).astype(int)"
   ]
  },
  {
   "cell_type": "code",
   "execution_count": 61,
   "id": "ac6c7dbf-62b0-4b93-83ea-93d569a71895",
   "metadata": {},
   "outputs": [
    {
     "name": "stdout",
     "output_type": "stream",
     "text": [
      "Open Rate: 10.35%\n",
      "Click Rate: 2.12%\n"
     ]
    }
   ],
   "source": [
    "# Calculate and display open and click-through rates\n",
    "total_emails = len(email_df)\n",
    "open_rate = email_df['opened'].mean() * 100\n",
    "click_rate = email_df['clicked'].mean() * 100\n",
    "\n",
    "print(f\"Open Rate: {open_rate:.2f}%\")\n",
    "print(f\"Click Rate: {click_rate:.2f}%\")"
   ]
  },
  {
   "cell_type": "code",
   "execution_count": 63,
   "id": "8d7728b5-14e4-42ac-90b1-3a641ede0e57",
   "metadata": {},
   "outputs": [],
   "source": [
    "# Prepare data for modeling\n",
    "df = email_df.copy()\n",
    "\n",
    "# Encode categorical features to numerical values for ML\n",
    "label_cols = ['email_text', 'email_version', 'weekday', 'user_country']\n",
    "for col in label_cols:\n",
    "    df[col] = LabelEncoder().fit_transform(df[col])"
   ]
  },
  {
   "cell_type": "code",
   "execution_count": 67,
   "id": "d29bbc52-2a4e-4bb3-9727-df784c2cffa2",
   "metadata": {},
   "outputs": [],
   "source": [
    "# Define features (X) and target variable (y)\n",
    "features = ['email_text', 'email_version', 'hour', 'weekday', 'user_country', \n",
    "            'user_past_purchases']\n",
    "target = 'clicked'\n",
    "\n",
    "X = df[features]\n",
    "y = df[target]"
   ]
  },
  {
   "cell_type": "code",
   "execution_count": 73,
   "id": "44fc7dc3-01fb-4b66-95a9-131bdc705bb8",
   "metadata": {},
   "outputs": [],
   "source": [
    "# Split data into training and test sets (80/20 split)\n",
    "X_train, X_test, y_train, y_test = train_test_split(X, y, test_size=0.2, random_state=42)"
   ]
  },
  {
   "cell_type": "code",
   "execution_count": 43,
   "id": "e50aca86-6fef-4685-b48d-70e3d3507b97",
   "metadata": {},
   "outputs": [
    {
     "data": {
      "text/plain": [
       "RandomForestClassifier(random_state=42)"
      ]
     },
     "execution_count": 43,
     "metadata": {},
     "output_type": "execute_result"
    }
   ],
   "source": [
    "# Train a Random Forest classifier\n",
    "model = RandomForestClassifier(n_estimators=100, random_state=42)\n",
    "model.fit(X_train, y_train)"
   ]
  },
  {
   "cell_type": "code",
   "execution_count": 69,
   "id": "ea1f6581-e289-4070-939d-3e80f8af873c",
   "metadata": {},
   "outputs": [
    {
     "name": "stdout",
     "output_type": "stream",
     "text": [
      "              precision    recall  f1-score   support\n",
      "\n",
      "           0       0.98      1.00      0.99     19547\n",
      "           1       0.06      0.01      0.02       453\n",
      "\n",
      "    accuracy                           0.97     20000\n",
      "   macro avg       0.52      0.50      0.50     20000\n",
      "weighted avg       0.96      0.97      0.97     20000\n",
      "\n"
     ]
    }
   ],
   "source": [
    "# Evaluate model performance\n",
    "y_pred = model.predict(X_test)\n",
    "print(classification_report(y_test, y_pred))"
   ]
  },
  {
   "cell_type": "code",
   "execution_count": 71,
   "id": "a216dba7-3484-42dd-9238-f5952dac4136",
   "metadata": {},
   "outputs": [],
   "source": [
    "# Predict click probability for each email in the full dataset\n",
    "df['click_proba'] = model.predict_proba(df[features])[:, 1]"
   ]
  },
  {
   "cell_type": "code",
   "execution_count": 75,
   "id": "9a64dac7-26d6-4da3-bd3b-a00340cd150f",
   "metadata": {},
   "outputs": [],
   "source": [
    "# Simulate model-based targeting:\n",
    "# Assume company only sends to top 20% users most likely to click\n",
    "top_n = int(0.2 * len(df))\n",
    "df_sorted = df.sort_values(by='click_proba', ascending=False)\n",
    "model_selected = df_sorted.head(top_n)"
   ]
  },
  {
   "cell_type": "code",
   "execution_count": 77,
   "id": "9d7303e6-c075-471b-af38-142fd9377935",
   "metadata": {},
   "outputs": [
    {
     "name": "stdout",
     "output_type": "stream",
     "text": [
      "Simulated CTR (Top 20% model-selected users): 9.21%\n",
      "Baseline CTR (All users): 2.12%\n",
      "Estimated Improvement: 7.09%\n"
     ]
    }
   ],
   "source": [
    "# Calculate simulated CTR and compare with baseline\n",
    "simulated_ctr = model_selected['clicked'].mean() * 100\n",
    "print(f\"Simulated CTR (Top 20% model-selected users): {simulated_ctr:.2f}%\")\n",
    "print(f\"Baseline CTR (All users): {click_rate:.2f}%\")\n",
    "print(f\"Estimated Improvement: {simulated_ctr - click_rate:.2f}%\")"
   ]
  },
  {
   "cell_type": "code",
   "execution_count": null,
   "id": "6a85f6ca-c1b3-402c-bace-0504501bc9fb",
   "metadata": {},
   "outputs": [],
   "source": []
  }
 ],
 "metadata": {
  "kernelspec": {
   "display_name": "Python [conda env:anaconda3]",
   "language": "python",
   "name": "conda-env-anaconda3-py"
  },
  "language_info": {
   "codemirror_mode": {
    "name": "ipython",
    "version": 3
   },
   "file_extension": ".py",
   "mimetype": "text/x-python",
   "name": "python",
   "nbconvert_exporter": "python",
   "pygments_lexer": "ipython3",
   "version": "3.8.3"
  }
 },
 "nbformat": 4,
 "nbformat_minor": 5
}
